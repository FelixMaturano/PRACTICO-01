{
 "cells": [
  {
   "cell_type": "code",
   "execution_count": null,
   "metadata": {},
   "outputs": [],
   "source": [
    "import pandas as pd\n",
    "import matplotlib.pyplot as plt\n",
    "import numpy as np\n",
    "from scipy.optimize import curve_fit\n",
    "\n",
    "# Cargar los datos\n",
    "df = pd.read_csv('datos.csv')\n",
    "\n",
    "# Funciones para diferentes tipos de curvas\n",
    "def lineal(x, a, b):\n",
    "    return a * x + b\n",
    "\n",
    "def cuadratica(x, a, b, c):\n",
    "    return a * x**2 + b * x + c\n",
    "\n",
    "def cubica(x, a, b, c, d):\n",
    "    return a * x**3 + b * x**2 + c * x + d\n",
    "\n",
    "# Ajustar las curvas\n",
    "xdata = df['Estatura']\n",
    "ydata = df['Peso']\n",
    "\n",
    "# Ajuste lineal\n",
    "popt_lineal, _ = curve_fit(lineal, xdata, ydata)\n",
    "# Ajuste cuadrático\n",
    "popt_cuadratica, _ = curve_fit(cuadratica, xdata, ydata)\n",
    "# Ajuste cúbico\n",
    "popt_cubica, _ = curve_fit(cubica, xdata, ydata)\n",
    "\n",
    "# Graficar los datos y las curvas ajustadas\n",
    "plt.scatter(xdata, ydata, label='Datos')\n",
    "\n",
    "# Curvas ajustadas\n",
    "x_fit = np.linspace(min(xdata), max(xdata), 100)\n",
    "plt.plot(x_fit, lineal(x_fit, *popt_lineal), 'r-', label='Lineal')\n",
    "plt.plot(x_fit, cuadratica(x_fit, *popt_cuadratica), 'g--', label='Cuadrática')\n",
    "plt.plot(x_fit, cubica(x_fit, *popt_cubica), 'b:', label='Cúbica')\n",
    "\n",
    "plt.xlabel('Estatura (m)')\n",
    "plt.ylabel('Peso (kg)')\n",
    "plt.legend()\n",
    "plt.show()\n"
   ]
  }
 ],
 "metadata": {
  "language_info": {
   "name": "python"
  }
 },
 "nbformat": 4,
 "nbformat_minor": 2
}
